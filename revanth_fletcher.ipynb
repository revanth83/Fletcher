{
 "cells": [
  {
   "cell_type": "code",
   "execution_count": 2,
   "metadata": {
    "collapsed": true
   },
   "outputs": [],
   "source": [
    "# import requests\n",
    "# from requests_oauthlib import OAuth1"
   ]
  },
  {
   "cell_type": "code",
   "execution_count": 44,
   "metadata": {
    "collapsed": false
   },
   "outputs": [],
   "source": [
    "# import cnfg\n",
    "# config = cnfg.load(\".twitter_config\")\n",
    "\n",
    "# oauth = OAuth1(config[\"consumer_key\"],\n",
    "#                config[\"consumer_secret\"],\n",
    "#                config[\"access_token\"],\n",
    "#                config[\"access_token_secret\"])"
   ]
  },
  {
   "cell_type": "code",
   "execution_count": 45,
   "metadata": {
    "collapsed": false
   },
   "outputs": [],
   "source": [
    "# import tweepy\n",
    "\n",
    "# auth = tweepy.OAuthHandler(config[\"consumer_key\"],\n",
    "#                            config[\"consumer_secret\"])\n",
    "# auth.set_access_token(config[\"access_token\"],\n",
    "#                       config[\"access_token_secret\"])"
   ]
  },
  {
   "cell_type": "code",
   "execution_count": 46,
   "metadata": {
    "collapsed": false
   },
   "outputs": [],
   "source": [
    "# api = tweepy.API(auth)\n",
    "\n",
    "# irmak_tweets = api.user_timeline(\"frrmack\", count=10)\n",
    "\n",
    "# for attr in dir(irmak_tweets[0]):\n",
    "#     print attr"
   ]
  },
  {
   "cell_type": "code",
   "execution_count": 6,
   "metadata": {
    "collapsed": true
   },
   "outputs": [],
   "source": []
  },
  {
   "cell_type": "code",
   "execution_count": 13,
   "metadata": {
    "collapsed": true
   },
   "outputs": [],
   "source": [
    "# def test_rate_limit(api, wait=True, buffer=.1):\n",
    "#     \"\"\"\n",
    "#     Tests whether the rate limit of the last request has been reached.\n",
    "#     :param api: The `tweepy` api instance.\n",
    "#     :param wait: A flag indicating whether to wait for the rate limit reset\n",
    "#                  if the rate limit has been reached.\n",
    "#     :param buffer: A buffer time in seconds that is added on to the waiting\n",
    "#                    time as an extra safety margin.\n",
    "#     :return: True if it is ok to proceed with the next request. False otherwise.\n",
    "#     \"\"\"\n",
    "#     #Get the number of remaining requests\n",
    "#     remaining = int(api.last_response.getheader('x-rate-limit-remaining'))\n",
    "#     #Check if we have reached the limit\n",
    "#     if remaining == 0:\n",
    "#         limit = int(api.last_response.getheader('x-rate-limit-limit'))\n",
    "#         reset = int(api.last_response.getheader('x-rate-limit-reset'))\n",
    "#         #Parse the UTC time\n",
    "#         reset = datetime.fromtimestamp(reset)\n",
    "#         #Let the user know we have reached the rate limit\n",
    "#         print \"0 of {} requests remaining until {}.\".format(limit, reset)\n",
    "\n",
    "#         if wait:\n",
    "#             #Determine the delay and sleep\n",
    "#             delay = (reset - datetime.now()).total_seconds() + buffer\n",
    "#             print \"Sleeping for {}s...\".format(delay)\n",
    "#             sleep(delay)\n",
    "#             #We have waited for the rate limit reset. OK to proceed.\n",
    "#             return True\n",
    "#         else:\n",
    "#             #We have reached the rate limit. The user needs to handle the rate limit manually.\n",
    "#             return False \n",
    "\n",
    "#     #We have not reached the rate limit\n",
    "#     return True"
   ]
  },
  {
   "cell_type": "code",
   "execution_count": 60,
   "metadata": {
    "collapsed": false
   },
   "outputs": [],
   "source": [
    "# query = \"#applewatch\"\n",
    "# max_tweets = 5000\n",
    "# import time\n",
    "# search_results = tweepy.Cursor(api.search, q=query).items(max_tweets)\n",
    "# for i, tweet in enumerate(search_results):\n",
    "#     try:\n",
    "#         print tweet.text\n",
    "#         #products.save(tweet)\n",
    "#     except tweepy.TweepError, e:\n",
    "#         if e == \"[{u'message': u'Rate limit exceeded', u'code': 88}]\":\n",
    "#             time.sleep(60*15) #Sleep for 15 minutes\n",
    "#         else:\n",
    "#             print e"
   ]
  },
  {
   "cell_type": "code",
   "execution_count": 56,
   "metadata": {
    "collapsed": false
   },
   "outputs": [],
   "source": [
    "# import json\n",
    "# # print tweet\n",
    "# tweet.metadata\n",
    "\n",
    "#print json.dumps(tweet)\n",
    "# print tweet\n",
    "\n",
    "# dict_tweet= json.loads(tweet.text)\n",
    "# print dict_tweet\n",
    "# print ((tweet.text).encode('utf-8'))\n",
    "# print str(dict_tweet)"
   ]
  },
  {
   "cell_type": "code",
   "execution_count": 1,
   "metadata": {
    "collapsed": false
   },
   "outputs": [],
   "source": [
    "# from textblob import TextBlob as tb\n",
    "# query = \"#applewatch\"\n",
    "# max_tweets = 5000\n",
    "# import pickle\n",
    "# import time\n",
    "# search_results = tweepy.Cursor(api.search, q=query).items(max_tweets)\n",
    "# tw_Polarity=[]\n",
    "# tw_Subjectivity=[]\n",
    "# tw_list=[]\n",
    "# # len(search_results)\n",
    "# for i, tweet in enumerate(search_results):\n",
    "# #     test_rate_limit(api, wait=True, buffer=.1)\n",
    "#     try:\n",
    "#         tw_Polarity.append(tb(tweet.text).sentiment.polarity)\n",
    "#         tw_Subjectivity.append(tb(tweet.text).sentiment.subjectivity)\n",
    "#         tw_list.append(tweet)\n",
    "#     except tweepy.TweepError, e:\n",
    "#         if e == \"[{u'message': u'Rate limit exceeded', u'code': 88}]\":\n",
    "#             time.sleep(60*15) #Sleep for 5 minutes\n",
    "#         else:\n",
    "#             print e\n",
    "\n",
    "# output = open('tweets.pkl', 'wb')\n",
    "# pickle.dump(tw_list,tw_Polarity,tw_Subjectivity, output)\n",
    "# output.close()\n",
    "# #         tw_Polarity.append(tb(tweet.text).sentiment.polarity)\n",
    "# #         tw_Subjectivity.append(tb(tweet.text).sentiment.subjectivity)\n",
    "# # avg_tw_Polarity=avg(tw_Polarity)\n",
    "# # avg_tw_Subjectivity=avg(tw_Subjectivity)\n",
    "\n"
   ]
  },
  {
   "cell_type": "code",
   "execution_count": null,
   "metadata": {
    "collapsed": false
   },
   "outputs": [],
   "source": [
    "# searchTerms = \"#applewatch\"\n",
    "\n",
    "# counter = 0\n",
    "# for tweet in tweepy.Cursor(api.search, q=searchTerms).items(5000): # changeable here\n",
    "\n",
    "#     try:\n",
    "#         '''print \"Name:\", tweet.author.name.encode('utf8')\n",
    "#         print \"Screen-name:\", tweet.author.screen_name.encode('utf8')\n",
    "#         print \"Tweet created:\", tweet.created_at'''\n",
    "\n",
    "#         placeHolder = []\n",
    "#         placeHolder.append(tweet.author.name.encode('utf8'))\n",
    "#         placeHolder.append(tweet.author.screen_name.encode('utf8'))\n",
    "#         placeHolder.append(tweet.created_at)\n",
    "\n",
    "# #         with open(\"TweetData_goodBook_15SEP2014_all.csv\", \"ab\") as f: # changeable here\n",
    "# #             writeFile = csv.writer(f)\n",
    "# #             writeFile.writerow(placeHolder)\n",
    "\n",
    "#         counter += 1\n",
    "#         print counter\n",
    "#         if counter == 4000:\n",
    "#             time.sleep(60*20) # wait for 20 min everytime 4,000 tweets are extracted \n",
    "#             counter == 0\n",
    "#             continue\n",
    "# #  except:  \n",
    "# #     except tweepy.TweepError:\n",
    "# #         time.sleep(60*20)\n",
    "# #         continue\n",
    "\n",
    "# #     except IOError:\n",
    "# #         time.sleep(60*2.5)\n",
    "# #         continue\n",
    "\n",
    "# #     except StopIteration:\n",
    "# #         break"
   ]
  },
  {
   "cell_type": "code",
   "execution_count": 6,
   "metadata": {
    "collapsed": true
   },
   "outputs": [],
   "source": [
    "from pymongo import MongoClient\n",
    "from pprint import pprint\n",
    "client= MongoClient()\n",
    "db=client.products\n",
    "products=db.products"
   ]
  },
  {
   "cell_type": "code",
   "execution_count": 2,
   "metadata": {
    "collapsed": false
   },
   "outputs": [
    {
     "data": {
      "text/plain": [
       "0"
      ]
     },
     "execution_count": 2,
     "metadata": {},
     "output_type": "execute_result"
    }
   ],
   "source": [
    "# products.drop()\n",
    "# products.count()"
   ]
  },
  {
   "cell_type": "code",
   "execution_count": 1,
   "metadata": {
    "collapsed": false
   },
   "outputs": [],
   "source": [
    "# #!/usr/bin/env python\n",
    "# import requests\n",
    "# from requests_oauthlib import OAuth1\n",
    "\n",
    "# import cnfg\n",
    "\n",
    "# config = cnfg.load(\".twitter_config\")\n",
    "\n",
    "# consumer_key, consumer_secret,access_token_key, access_token_secret=config[\"consumer_key\"],config[\"consumer_secret\"],config[\"access_token\"],config[\"access_token_secret\"]\n",
    "\n",
    "# from config import *\n",
    "# from TwitterAPI import TwitterAPI\n",
    "# import time\n",
    "\n",
    "# delay = 8 # seconds\n",
    "# # file_location=\"tweet_file.txt\"\n",
    "# while True:\n",
    "#     try:\n",
    "#         api = TwitterAPI(consumer_key, consumer_secret,\n",
    "#                          access_token_key, access_token_secret)\n",
    "#         r = api.request('statuses/filter', {'track':'#applewatch'})\n",
    "# #         with open(file_location, \"a\") as output:\n",
    "#         for item in r.get_iterator():\n",
    "# #                 output.write(str(item) + \"\\n\")\n",
    "#             products.save(item)\n",
    "#             print products.count()\n",
    "#             delay = max(8, delay/2)\n",
    "#     except:\n",
    "#         print \"Error\"\n",
    "#         print time.ctime()\n",
    "#         print \"Waiting \" + str(delay) + \" seconds\"\n",
    "#         time.sleep(delay)\n",
    "#         delay *= 2"
   ]
  },
  {
   "cell_type": "code",
   "execution_count": 32,
   "metadata": {
    "collapsed": false
   },
   "outputs": [],
   "source": [
    "# from TwitterAPI import TwitterAPI\n",
    "# import cnfg\n",
    "\n",
    "# config = cnfg.load(\".twitter_config\")\n",
    "# consumer_key, consumer_secret,access_token_key, access_token_secret=config[\"consumer_key\"],config[\"consumer_secret\"],config[\"access_token\"],config[\"access_token_secret\"]\n",
    "\n",
    "# api = TwitterAPI(consumer_key, consumer_secret,\n",
    "#                          access_token_key, access_token_secret)\n"
   ]
  },
  {
   "cell_type": "code",
   "execution_count": 2,
   "metadata": {
    "collapsed": false
   },
   "outputs": [],
   "source": [
    "# print api\n",
    "# varapi= api.request('statuses/user_timeline')"
   ]
  },
  {
   "cell_type": "code",
   "execution_count": 3,
   "metadata": {
    "collapsed": false
   },
   "outputs": [],
   "source": [
    "# print varapi\n",
    "# varapi.text"
   ]
  },
  {
   "cell_type": "code",
   "execution_count": 4,
   "metadata": {
    "collapsed": false
   },
   "outputs": [],
   "source": [
    "# import json\n",
    "# from pprint import pprint\n",
    "# # print json.dumps(tweet)\n",
    "# # print tweet\n",
    "\n",
    "# dict_tweet= json.loads(varapi.text)\n",
    "# pprint(dict_tweet)"
   ]
  },
  {
   "cell_type": "code",
   "execution_count": 7,
   "metadata": {
    "collapsed": false
   },
   "outputs": [
    {
     "data": {
      "text/plain": [
       "766"
      ]
     },
     "execution_count": 7,
     "metadata": {},
     "output_type": "execute_result"
    }
   ],
   "source": [
    "products.count()"
   ]
  },
  {
   "cell_type": "code",
   "execution_count": 58,
   "metadata": {
    "collapsed": false
   },
   "outputs": [],
   "source": []
  },
  {
   "cell_type": "code",
   "execution_count": 29,
   "metadata": {
    "collapsed": false
   },
   "outputs": [
    {
     "name": "stdout",
     "output_type": "stream",
     "text": [
      "Mean value of polarity = 0.112682316576\n",
      "Mean value of subjectivity= 0.260436820336\n"
     ]
    }
   ],
   "source": [
    "cursor=products.find()\n",
    "import json\n",
    "from pprint import pprint\n",
    "from textblob import TextBlob as tb\n",
    "import numpy as np\n",
    "\n",
    "cnt=0\n",
    "\n",
    "tw_polarity=[]\n",
    "tw_subjectivity=[]\n",
    "\n",
    "for tweet in cursor:\n",
    "    tw_polarity.append(tb(tweet['text']).sentiment.polarity)\n",
    "    tw_subjectivity.append(tb(tweet['text']).sentiment.subjectivity)\n",
    "    \n",
    "print \"Mean value of polarity =\",np.mean(tw_polarity)\n",
    "print \"Mean value of subjectivity=\",np.mean(tw_subjectivity)"
   ]
  },
  {
   "cell_type": "code",
   "execution_count": 24,
   "metadata": {
    "collapsed": false
   },
   "outputs": [
    {
     "data": {
      "image/png": "[encoded data removed]",
      "text/plain": [
       "<matplotlib.figure.Figure at 0x10bdb3110>"
      ]
     },
     "metadata": {},
     "output_type": "display_data"
    }
   ],
   "source": [
    "%matplotlib inline\n",
    "import matplotlib.pyplot as plt\n",
    "# plt.figure(figsize=(80,50))\n",
    "plt.figure(figsize=(12,8))\n",
    "plt.hist(tw_polarity,bins=100)\n",
    "plt.title(\"Sentiment Polarity Histogram\")\n",
    "plt.xlabel(\"Value\")\n",
    "plt.ylabel(\"Frequency\")\n",
    "plt.show()"
   ]
  },
  {
   "cell_type": "code",
   "execution_count": 26,
   "metadata": {
    "collapsed": false
   },
   "outputs": [
    {
     "data": {
      "image/png": "[encoded data removed]",
      "text/plain": [
       "<matplotlib.figure.Figure at 0x10bb78710>"
      ]
     },
     "metadata": {},
     "output_type": "display_data"
    }
   ],
   "source": [
    "%matplotlib inline\n",
    "import matplotlib.pyplot as plt\n",
    "# plt.figure(figsize=(80,50))\n",
    "plt.figure(figsize=(12,8))\n",
    "plt.hist(tw_subjectivity,bins=100)\n",
    "plt.title(\"Sentiment Subjectivity Histogram\")\n",
    "plt.xlabel(\"Value\")\n",
    "plt.ylabel(\"Frequency\")\n",
    "plt.show()"
   ]
  },
  {
   "cell_type": "code",
   "execution_count": null,
   "metadata": {
    "collapsed": true
   },
   "outputs": [],
   "source": []
  }
 ],
 "metadata": {
  "kernelspec": {
   "display_name": "Python 2",
   "language": "python",
   "name": "python2"
  },
  "language_info": {
   "codemirror_mode": {
    "name": "ipython",
    "version": 2
   },
   "file_extension": ".py",
   "mimetype": "text/x-python",
   "name": "python",
   "nbconvert_exporter": "python",
   "pygments_lexer": "ipython2",
   "version": "2.7.9"
  }
 },
 "nbformat": 4,
 "nbformat_minor": 0
}
